{
 "cells": [
  {
   "cell_type": "markdown",
   "id": "75089a05",
   "metadata": {},
   "source": [
    "# Importing Libraries"
   ]
  },
  {
   "cell_type": "code",
   "execution_count": 723,
   "id": "eb6b7887",
   "metadata": {},
   "outputs": [],
   "source": [
    "import pandas as pd\n",
    "import numpy as np\n",
    "import matplotlib.pyplot as plt\n",
    "import seaborn as sns"
   ]
  },
  {
   "cell_type": "code",
   "execution_count": 724,
   "id": "3eef1d3c",
   "metadata": {},
   "outputs": [],
   "source": [
    "# Importing Dataset"
   ]
  },
  {
   "cell_type": "code",
   "execution_count": 725,
   "id": "b8712a55",
   "metadata": {},
   "outputs": [],
   "source": [
    "dataset = pd.read_csv('/Users/ahmedbinnayeem/Desktop/kaggle_diabetes.csv')\n"
   ]
  },
  {
   "cell_type": "markdown",
   "id": "4cf965b3",
   "metadata": {},
   "source": [
    "# Data Statistics"
   ]
  },
  {
   "cell_type": "code",
   "execution_count": 726,
   "id": "8c5c11b7",
   "metadata": {
    "scrolled": true
   },
   "outputs": [
    {
     "data": {
      "text/html": [
       "<div>\n",
       "<style scoped>\n",
       "    .dataframe tbody tr th:only-of-type {\n",
       "        vertical-align: middle;\n",
       "    }\n",
       "\n",
       "    .dataframe tbody tr th {\n",
       "        vertical-align: top;\n",
       "    }\n",
       "\n",
       "    .dataframe thead th {\n",
       "        text-align: right;\n",
       "    }\n",
       "</style>\n",
       "<table border=\"1\" class=\"dataframe\">\n",
       "  <thead>\n",
       "    <tr style=\"text-align: right;\">\n",
       "      <th></th>\n",
       "      <th>Pregnancies</th>\n",
       "      <th>Glucose</th>\n",
       "      <th>BloodPressure</th>\n",
       "      <th>SkinThickness</th>\n",
       "      <th>Insulin</th>\n",
       "      <th>BMI</th>\n",
       "      <th>DiabetesPedigreeFunction</th>\n",
       "      <th>Age</th>\n",
       "      <th>Outcome</th>\n",
       "    </tr>\n",
       "  </thead>\n",
       "  <tbody>\n",
       "    <tr>\n",
       "      <th>0</th>\n",
       "      <td>2</td>\n",
       "      <td>138</td>\n",
       "      <td>62</td>\n",
       "      <td>35</td>\n",
       "      <td>0</td>\n",
       "      <td>33.6</td>\n",
       "      <td>0.127</td>\n",
       "      <td>47</td>\n",
       "      <td>1</td>\n",
       "    </tr>\n",
       "    <tr>\n",
       "      <th>1</th>\n",
       "      <td>0</td>\n",
       "      <td>84</td>\n",
       "      <td>82</td>\n",
       "      <td>31</td>\n",
       "      <td>125</td>\n",
       "      <td>38.2</td>\n",
       "      <td>0.233</td>\n",
       "      <td>23</td>\n",
       "      <td>0</td>\n",
       "    </tr>\n",
       "    <tr>\n",
       "      <th>2</th>\n",
       "      <td>0</td>\n",
       "      <td>145</td>\n",
       "      <td>0</td>\n",
       "      <td>0</td>\n",
       "      <td>0</td>\n",
       "      <td>44.2</td>\n",
       "      <td>0.630</td>\n",
       "      <td>31</td>\n",
       "      <td>1</td>\n",
       "    </tr>\n",
       "    <tr>\n",
       "      <th>3</th>\n",
       "      <td>0</td>\n",
       "      <td>135</td>\n",
       "      <td>68</td>\n",
       "      <td>42</td>\n",
       "      <td>250</td>\n",
       "      <td>42.3</td>\n",
       "      <td>0.365</td>\n",
       "      <td>24</td>\n",
       "      <td>1</td>\n",
       "    </tr>\n",
       "    <tr>\n",
       "      <th>4</th>\n",
       "      <td>1</td>\n",
       "      <td>139</td>\n",
       "      <td>62</td>\n",
       "      <td>41</td>\n",
       "      <td>480</td>\n",
       "      <td>40.7</td>\n",
       "      <td>0.536</td>\n",
       "      <td>21</td>\n",
       "      <td>0</td>\n",
       "    </tr>\n",
       "  </tbody>\n",
       "</table>\n",
       "</div>"
      ],
      "text/plain": [
       "   Pregnancies  Glucose  BloodPressure  SkinThickness  Insulin   BMI  \\\n",
       "0            2      138             62             35        0  33.6   \n",
       "1            0       84             82             31      125  38.2   \n",
       "2            0      145              0              0        0  44.2   \n",
       "3            0      135             68             42      250  42.3   \n",
       "4            1      139             62             41      480  40.7   \n",
       "\n",
       "   DiabetesPedigreeFunction  Age  Outcome  \n",
       "0                     0.127   47        1  \n",
       "1                     0.233   23        0  \n",
       "2                     0.630   31        1  \n",
       "3                     0.365   24        1  \n",
       "4                     0.536   21        0  "
      ]
     },
     "execution_count": 726,
     "metadata": {},
     "output_type": "execute_result"
    }
   ],
   "source": [
    "# Preview data\n",
    "dataset.head()"
   ]
  },
  {
   "cell_type": "code",
   "execution_count": 727,
   "id": "4d6fbf0f",
   "metadata": {},
   "outputs": [
    {
     "data": {
      "text/plain": [
       "(1025, 9)"
      ]
     },
     "execution_count": 727,
     "metadata": {},
     "output_type": "execute_result"
    }
   ],
   "source": [
    "#Dataset Dimensions\n",
    "dataset.shape"
   ]
  },
  {
   "cell_type": "code",
   "execution_count": 728,
   "id": "29ddc270",
   "metadata": {},
   "outputs": [
    {
     "name": "stdout",
     "output_type": "stream",
     "text": [
      "<class 'pandas.core.frame.DataFrame'>\n",
      "RangeIndex: 1025 entries, 0 to 1024\n",
      "Data columns (total 9 columns):\n",
      " #   Column                    Non-Null Count  Dtype  \n",
      "---  ------                    --------------  -----  \n",
      " 0   Pregnancies               1025 non-null   int64  \n",
      " 1   Glucose                   1025 non-null   int64  \n",
      " 2   BloodPressure             1025 non-null   int64  \n",
      " 3   SkinThickness             1025 non-null   int64  \n",
      " 4   Insulin                   1025 non-null   int64  \n",
      " 5   BMI                       1025 non-null   float64\n",
      " 6   DiabetesPedigreeFunction  1025 non-null   float64\n",
      " 7   Age                       1025 non-null   int64  \n",
      " 8   Outcome                   1025 non-null   int64  \n",
      "dtypes: float64(2), int64(7)\n",
      "memory usage: 72.2 KB\n"
     ]
    }
   ],
   "source": [
    "# Features data-type\n",
    "dataset.info()"
   ]
  },
  {
   "cell_type": "code",
   "execution_count": 729,
   "id": "e868ccec",
   "metadata": {},
   "outputs": [
    {
     "data": {
      "text/html": [
       "<div>\n",
       "<style scoped>\n",
       "    .dataframe tbody tr th:only-of-type {\n",
       "        vertical-align: middle;\n",
       "    }\n",
       "\n",
       "    .dataframe tbody tr th {\n",
       "        vertical-align: top;\n",
       "    }\n",
       "\n",
       "    .dataframe thead th {\n",
       "        text-align: right;\n",
       "    }\n",
       "</style>\n",
       "<table border=\"1\" class=\"dataframe\">\n",
       "  <thead>\n",
       "    <tr style=\"text-align: right;\">\n",
       "      <th></th>\n",
       "      <th>count</th>\n",
       "      <th>mean</th>\n",
       "      <th>std</th>\n",
       "      <th>min</th>\n",
       "      <th>25%</th>\n",
       "      <th>50%</th>\n",
       "      <th>75%</th>\n",
       "      <th>max</th>\n",
       "    </tr>\n",
       "  </thead>\n",
       "  <tbody>\n",
       "    <tr>\n",
       "      <th>Pregnancies</th>\n",
       "      <td>1025.0</td>\n",
       "      <td>3.720000</td>\n",
       "      <td>3.332288</td>\n",
       "      <td>0.000</td>\n",
       "      <td>1.000</td>\n",
       "      <td>3.000</td>\n",
       "      <td>6.00</td>\n",
       "      <td>17.00</td>\n",
       "    </tr>\n",
       "    <tr>\n",
       "      <th>Glucose</th>\n",
       "      <td>1025.0</td>\n",
       "      <td>120.087805</td>\n",
       "      <td>32.712020</td>\n",
       "      <td>0.000</td>\n",
       "      <td>97.000</td>\n",
       "      <td>116.000</td>\n",
       "      <td>139.00</td>\n",
       "      <td>199.00</td>\n",
       "    </tr>\n",
       "    <tr>\n",
       "      <th>BloodPressure</th>\n",
       "      <td>1025.0</td>\n",
       "      <td>68.912195</td>\n",
       "      <td>19.317862</td>\n",
       "      <td>0.000</td>\n",
       "      <td>64.000</td>\n",
       "      <td>72.000</td>\n",
       "      <td>80.00</td>\n",
       "      <td>122.00</td>\n",
       "    </tr>\n",
       "    <tr>\n",
       "      <th>SkinThickness</th>\n",
       "      <td>1025.0</td>\n",
       "      <td>20.807805</td>\n",
       "      <td>15.706883</td>\n",
       "      <td>0.000</td>\n",
       "      <td>0.000</td>\n",
       "      <td>23.000</td>\n",
       "      <td>32.00</td>\n",
       "      <td>99.00</td>\n",
       "    </tr>\n",
       "    <tr>\n",
       "      <th>Insulin</th>\n",
       "      <td>1025.0</td>\n",
       "      <td>78.626341</td>\n",
       "      <td>108.906756</td>\n",
       "      <td>0.000</td>\n",
       "      <td>0.000</td>\n",
       "      <td>42.000</td>\n",
       "      <td>125.00</td>\n",
       "      <td>744.00</td>\n",
       "    </tr>\n",
       "    <tr>\n",
       "      <th>BMI</th>\n",
       "      <td>1025.0</td>\n",
       "      <td>31.951415</td>\n",
       "      <td>7.810497</td>\n",
       "      <td>0.000</td>\n",
       "      <td>27.200</td>\n",
       "      <td>32.000</td>\n",
       "      <td>36.60</td>\n",
       "      <td>67.10</td>\n",
       "    </tr>\n",
       "    <tr>\n",
       "      <th>DiabetesPedigreeFunction</th>\n",
       "      <td>1025.0</td>\n",
       "      <td>0.474861</td>\n",
       "      <td>0.328544</td>\n",
       "      <td>0.078</td>\n",
       "      <td>0.244</td>\n",
       "      <td>0.378</td>\n",
       "      <td>0.63</td>\n",
       "      <td>2.42</td>\n",
       "    </tr>\n",
       "    <tr>\n",
       "      <th>Age</th>\n",
       "      <td>1025.0</td>\n",
       "      <td>33.259512</td>\n",
       "      <td>11.981552</td>\n",
       "      <td>21.000</td>\n",
       "      <td>24.000</td>\n",
       "      <td>29.000</td>\n",
       "      <td>41.00</td>\n",
       "      <td>81.00</td>\n",
       "    </tr>\n",
       "    <tr>\n",
       "      <th>Outcome</th>\n",
       "      <td>1025.0</td>\n",
       "      <td>0.332683</td>\n",
       "      <td>0.471404</td>\n",
       "      <td>0.000</td>\n",
       "      <td>0.000</td>\n",
       "      <td>0.000</td>\n",
       "      <td>1.00</td>\n",
       "      <td>1.00</td>\n",
       "    </tr>\n",
       "  </tbody>\n",
       "</table>\n",
       "</div>"
      ],
      "text/plain": [
       "                           count        mean         std     min     25%  \\\n",
       "Pregnancies               1025.0    3.720000    3.332288   0.000   1.000   \n",
       "Glucose                   1025.0  120.087805   32.712020   0.000  97.000   \n",
       "BloodPressure             1025.0   68.912195   19.317862   0.000  64.000   \n",
       "SkinThickness             1025.0   20.807805   15.706883   0.000   0.000   \n",
       "Insulin                   1025.0   78.626341  108.906756   0.000   0.000   \n",
       "BMI                       1025.0   31.951415    7.810497   0.000  27.200   \n",
       "DiabetesPedigreeFunction  1025.0    0.474861    0.328544   0.078   0.244   \n",
       "Age                       1025.0   33.259512   11.981552  21.000  24.000   \n",
       "Outcome                   1025.0    0.332683    0.471404   0.000   0.000   \n",
       "\n",
       "                              50%     75%     max  \n",
       "Pregnancies                 3.000    6.00   17.00  \n",
       "Glucose                   116.000  139.00  199.00  \n",
       "BloodPressure              72.000   80.00  122.00  \n",
       "SkinThickness              23.000   32.00   99.00  \n",
       "Insulin                    42.000  125.00  744.00  \n",
       "BMI                        32.000   36.60   67.10  \n",
       "DiabetesPedigreeFunction    0.378    0.63    2.42  \n",
       "Age                        29.000   41.00   81.00  \n",
       "Outcome                     0.000    1.00    1.00  "
      ]
     },
     "execution_count": 729,
     "metadata": {},
     "output_type": "execute_result"
    }
   ],
   "source": [
    "# Statistical summary\n",
    "dataset.describe().T"
   ]
  },
  {
   "cell_type": "code",
   "execution_count": 730,
   "id": "7130eeb8",
   "metadata": {},
   "outputs": [
    {
     "data": {
      "text/plain": [
       "Pregnancies                 0\n",
       "Glucose                     0\n",
       "BloodPressure               0\n",
       "SkinThickness               0\n",
       "Insulin                     0\n",
       "BMI                         0\n",
       "DiabetesPedigreeFunction    0\n",
       "Age                         0\n",
       "Outcome                     0\n",
       "dtype: int64"
      ]
     },
     "execution_count": 730,
     "metadata": {},
     "output_type": "execute_result"
    }
   ],
   "source": [
    "# Count of null values\n",
    "dataset.isnull().sum()"
   ]
  },
  {
   "cell_type": "markdown",
   "id": "f3e2f842",
   "metadata": {},
   "source": [
    "# Data Visualisation"
   ]
  },
  {
   "cell_type": "code",
   "execution_count": 731,
   "id": "ad049c06",
   "metadata": {},
   "outputs": [
    {
     "data": {
      "text/plain": [
       "<AxesSubplot:xlabel='Outcome', ylabel='count'>"
      ]
     },
     "execution_count": 731,
     "metadata": {},
     "output_type": "execute_result"
    },
    {
     "data": {
      "image/png": "[encoded data removed]",
      "text/plain": [
       "<Figure size 432x288 with 1 Axes>"
      ]
     },
     "metadata": {
      "needs_background": "light"
     },
     "output_type": "display_data"
    }
   ],
   "source": [
    "# Outcome countplot\n",
    "sns.countplot(x = 'Outcome', data = dataset)"
   ]
  },
  {
   "cell_type": "code",
   "execution_count": 732,
   "id": "ea744bfa",
   "metadata": {},
   "outputs": [
    {
     "data": {
      "image/png": "[encoded data removed]",
      "text/plain": [
       "<Figure size 432x288 with 2 Axes>"
      ]
     },
     "metadata": {
      "needs_background": "light"
     },
     "output_type": "display_data"
    }
   ],
   "source": [
    "# Heatmap\n",
    "sns.heatmap(dataset.corr(), annot = True)\n",
    "plt.show()"
   ]
  },
  {
   "cell_type": "markdown",
   "id": "09fc6224",
   "metadata": {},
   "source": [
    "# Data Preprocessing"
   ]
  },
  {
   "cell_type": "code",
   "execution_count": 733,
   "id": "e5d00816",
   "metadata": {},
   "outputs": [],
   "source": [
    "dataset_new = dataset"
   ]
  },
  {
   "cell_type": "code",
   "execution_count": 734,
   "id": "85be00ab",
   "metadata": {},
   "outputs": [],
   "source": [
    "del dataset_new[\"Pregnancies\"]"
   ]
  },
  {
   "cell_type": "code",
   "execution_count": 735,
   "id": "53057edf",
   "metadata": {},
   "outputs": [],
   "source": [
    "del dataset_new[\"DiabetesPedigreeFunction\"]"
   ]
  },
  {
   "cell_type": "code",
   "execution_count": 736,
   "id": "c7e7d91a",
   "metadata": {},
   "outputs": [],
   "source": [
    "\n",
    "del dataset_new[\"SkinThickness\"]"
   ]
  },
  {
   "cell_type": "code",
   "execution_count": 737,
   "id": "66a2b958",
   "metadata": {},
   "outputs": [],
   "source": [
    "\n",
    "del dataset_new[\"BloodPressure\"]"
   ]
  },
  {
   "cell_type": "code",
   "execution_count": 738,
   "id": "3e53b89a",
   "metadata": {},
   "outputs": [
    {
     "data": {
      "text/html": [
       "<div>\n",
       "<style scoped>\n",
       "    .dataframe tbody tr th:only-of-type {\n",
       "        vertical-align: middle;\n",
       "    }\n",
       "\n",
       "    .dataframe tbody tr th {\n",
       "        vertical-align: top;\n",
       "    }\n",
       "\n",
       "    .dataframe thead th {\n",
       "        text-align: right;\n",
       "    }\n",
       "</style>\n",
       "<table border=\"1\" class=\"dataframe\">\n",
       "  <thead>\n",
       "    <tr style=\"text-align: right;\">\n",
       "      <th></th>\n",
       "      <th>Glucose</th>\n",
       "      <th>Insulin</th>\n",
       "      <th>BMI</th>\n",
       "      <th>Age</th>\n",
       "      <th>Outcome</th>\n",
       "    </tr>\n",
       "  </thead>\n",
       "  <tbody>\n",
       "    <tr>\n",
       "      <th>0</th>\n",
       "      <td>138</td>\n",
       "      <td>0</td>\n",
       "      <td>33.6</td>\n",
       "      <td>47</td>\n",
       "      <td>1</td>\n",
       "    </tr>\n",
       "    <tr>\n",
       "      <th>1</th>\n",
       "      <td>84</td>\n",
       "      <td>125</td>\n",
       "      <td>38.2</td>\n",
       "      <td>23</td>\n",
       "      <td>0</td>\n",
       "    </tr>\n",
       "    <tr>\n",
       "      <th>2</th>\n",
       "      <td>145</td>\n",
       "      <td>0</td>\n",
       "      <td>44.2</td>\n",
       "      <td>31</td>\n",
       "      <td>1</td>\n",
       "    </tr>\n",
       "    <tr>\n",
       "      <th>3</th>\n",
       "      <td>135</td>\n",
       "      <td>250</td>\n",
       "      <td>42.3</td>\n",
       "      <td>24</td>\n",
       "      <td>1</td>\n",
       "    </tr>\n",
       "    <tr>\n",
       "      <th>4</th>\n",
       "      <td>139</td>\n",
       "      <td>480</td>\n",
       "      <td>40.7</td>\n",
       "      <td>21</td>\n",
       "      <td>0</td>\n",
       "    </tr>\n",
       "    <tr>\n",
       "      <th>...</th>\n",
       "      <td>...</td>\n",
       "      <td>...</td>\n",
       "      <td>...</td>\n",
       "      <td>...</td>\n",
       "      <td>...</td>\n",
       "    </tr>\n",
       "    <tr>\n",
       "      <th>1020</th>\n",
       "      <td>99</td>\n",
       "      <td>54</td>\n",
       "      <td>26.9</td>\n",
       "      <td>32</td>\n",
       "      <td>0</td>\n",
       "    </tr>\n",
       "    <tr>\n",
       "      <th>1021</th>\n",
       "      <td>91</td>\n",
       "      <td>0</td>\n",
       "      <td>32.4</td>\n",
       "      <td>27</td>\n",
       "      <td>0</td>\n",
       "    </tr>\n",
       "    <tr>\n",
       "      <th>1022</th>\n",
       "      <td>95</td>\n",
       "      <td>88</td>\n",
       "      <td>26.1</td>\n",
       "      <td>22</td>\n",
       "      <td>0</td>\n",
       "    </tr>\n",
       "    <tr>\n",
       "      <th>1023</th>\n",
       "      <td>99</td>\n",
       "      <td>18</td>\n",
       "      <td>38.6</td>\n",
       "      <td>21</td>\n",
       "      <td>0</td>\n",
       "    </tr>\n",
       "    <tr>\n",
       "      <th>1024</th>\n",
       "      <td>92</td>\n",
       "      <td>126</td>\n",
       "      <td>32.0</td>\n",
       "      <td>46</td>\n",
       "      <td>0</td>\n",
       "    </tr>\n",
       "  </tbody>\n",
       "</table>\n",
       "<p>1025 rows × 5 columns</p>\n",
       "</div>"
      ],
      "text/plain": [
       "      Glucose  Insulin   BMI  Age  Outcome\n",
       "0         138        0  33.6   47        1\n",
       "1          84      125  38.2   23        0\n",
       "2         145        0  44.2   31        1\n",
       "3         135      250  42.3   24        1\n",
       "4         139      480  40.7   21        0\n",
       "...       ...      ...   ...  ...      ...\n",
       "1020       99       54  26.9   32        0\n",
       "1021       91        0  32.4   27        0\n",
       "1022       95       88  26.1   22        0\n",
       "1023       99       18  38.6   21        0\n",
       "1024       92      126  32.0   46        0\n",
       "\n",
       "[1025 rows x 5 columns]"
      ]
     },
     "execution_count": 738,
     "metadata": {},
     "output_type": "execute_result"
    }
   ],
   "source": [
    "dataset_new"
   ]
  },
  {
   "cell_type": "code",
   "execution_count": 739,
   "id": "23e9577f",
   "metadata": {},
   "outputs": [],
   "source": [
    "# Replacing zero values with NaN\n",
    "dataset_new[[\"Glucose\", \"Insulin\", \"BMI\"]]= dataset_new[[\"Glucose\", \"Insulin\", \"BMI\"]].replace(0, np.NaN) \n"
   ]
  },
  {
   "cell_type": "code",
   "execution_count": 740,
   "id": "393926c2",
   "metadata": {},
   "outputs": [
    {
     "data": {
      "text/plain": [
       "Glucose      9\n",
       "Insulin    487\n",
       "BMI         14\n",
       "Age          0\n",
       "Outcome      0\n",
       "dtype: int64"
      ]
     },
     "execution_count": 740,
     "metadata": {},
     "output_type": "execute_result"
    }
   ],
   "source": [
    "#Count Nan\n",
    "dataset_new.isnull().sum()"
   ]
  },
  {
   "cell_type": "code",
   "execution_count": 741,
   "id": "96d887a8",
   "metadata": {},
   "outputs": [],
   "source": [
    "# Replacing NaN with mean values\n",
    "dataset_new[\"Glucose\"].fillna(dataset_new[\"Glucose\"].mean(), inplace = True)\n",
    "dataset_new[\"Insulin\"].fillna(dataset_new[\"Insulin\"].mean(), inplace = True)\n",
    "dataset_new[\"BMI\"].fillna(dataset_new[\"BMI\"].mean(), inplace = True)"
   ]
  },
  {
   "cell_type": "code",
   "execution_count": 742,
   "id": "3ce6b9ff",
   "metadata": {},
   "outputs": [
    {
     "data": {
      "text/html": [
       "<div>\n",
       "<style scoped>\n",
       "    .dataframe tbody tr th:only-of-type {\n",
       "        vertical-align: middle;\n",
       "    }\n",
       "\n",
       "    .dataframe tbody tr th {\n",
       "        vertical-align: top;\n",
       "    }\n",
       "\n",
       "    .dataframe thead th {\n",
       "        text-align: right;\n",
       "    }\n",
       "</style>\n",
       "<table border=\"1\" class=\"dataframe\">\n",
       "  <thead>\n",
       "    <tr style=\"text-align: right;\">\n",
       "      <th></th>\n",
       "      <th>count</th>\n",
       "      <th>mean</th>\n",
       "      <th>std</th>\n",
       "      <th>min</th>\n",
       "      <th>25%</th>\n",
       "      <th>50%</th>\n",
       "      <th>75%</th>\n",
       "      <th>max</th>\n",
       "    </tr>\n",
       "  </thead>\n",
       "  <tbody>\n",
       "    <tr>\n",
       "      <th>Glucose</th>\n",
       "      <td>1025.0</td>\n",
       "      <td>121.151575</td>\n",
       "      <td>30.695370</td>\n",
       "      <td>44.0</td>\n",
       "      <td>99.0</td>\n",
       "      <td>117.000000</td>\n",
       "      <td>139.000000</td>\n",
       "      <td>199.0</td>\n",
       "    </tr>\n",
       "    <tr>\n",
       "      <th>Insulin</th>\n",
       "      <td>1025.0</td>\n",
       "      <td>149.799257</td>\n",
       "      <td>79.114794</td>\n",
       "      <td>14.0</td>\n",
       "      <td>115.0</td>\n",
       "      <td>149.799257</td>\n",
       "      <td>149.799257</td>\n",
       "      <td>744.0</td>\n",
       "    </tr>\n",
       "    <tr>\n",
       "      <th>BMI</th>\n",
       "      <td>1025.0</td>\n",
       "      <td>32.393867</td>\n",
       "      <td>6.844930</td>\n",
       "      <td>18.2</td>\n",
       "      <td>27.4</td>\n",
       "      <td>32.393867</td>\n",
       "      <td>36.600000</td>\n",
       "      <td>67.1</td>\n",
       "    </tr>\n",
       "    <tr>\n",
       "      <th>Age</th>\n",
       "      <td>1025.0</td>\n",
       "      <td>33.259512</td>\n",
       "      <td>11.981552</td>\n",
       "      <td>21.0</td>\n",
       "      <td>24.0</td>\n",
       "      <td>29.000000</td>\n",
       "      <td>41.000000</td>\n",
       "      <td>81.0</td>\n",
       "    </tr>\n",
       "    <tr>\n",
       "      <th>Outcome</th>\n",
       "      <td>1025.0</td>\n",
       "      <td>0.332683</td>\n",
       "      <td>0.471404</td>\n",
       "      <td>0.0</td>\n",
       "      <td>0.0</td>\n",
       "      <td>0.000000</td>\n",
       "      <td>1.000000</td>\n",
       "      <td>1.0</td>\n",
       "    </tr>\n",
       "  </tbody>\n",
       "</table>\n",
       "</div>"
      ],
      "text/plain": [
       "          count        mean        std   min    25%         50%         75%  \\\n",
       "Glucose  1025.0  121.151575  30.695370  44.0   99.0  117.000000  139.000000   \n",
       "Insulin  1025.0  149.799257  79.114794  14.0  115.0  149.799257  149.799257   \n",
       "BMI      1025.0   32.393867   6.844930  18.2   27.4   32.393867   36.600000   \n",
       "Age      1025.0   33.259512  11.981552  21.0   24.0   29.000000   41.000000   \n",
       "Outcome  1025.0    0.332683   0.471404   0.0    0.0    0.000000    1.000000   \n",
       "\n",
       "           max  \n",
       "Glucose  199.0  \n",
       "Insulin  744.0  \n",
       "BMI       67.1  \n",
       "Age       81.0  \n",
       "Outcome    1.0  "
      ]
     },
     "execution_count": 742,
     "metadata": {},
     "output_type": "execute_result"
    }
   ],
   "source": [
    "# Statistical summary\n",
    "dataset_new.describe().T"
   ]
  },
  {
   "cell_type": "code",
   "execution_count": 743,
   "id": "e6cafb8b",
   "metadata": {},
   "outputs": [],
   "source": [
    "# Feature scaling using MinMaxScaler\n",
    "from sklearn.preprocessing import MinMaxScaler\n",
    "sc = MinMaxScaler(feature_range = (0, 1))\n",
    "dataset_scaled = sc.fit_transform(dataset_new)"
   ]
  },
  {
   "cell_type": "code",
   "execution_count": 744,
   "id": "92858fa2",
   "metadata": {},
   "outputs": [],
   "source": [
    "dataset_scaled = pd.DataFrame(dataset_scaled)"
   ]
  },
  {
   "cell_type": "code",
   "execution_count": 745,
   "id": "49712bf4",
   "metadata": {},
   "outputs": [
    {
     "data": {
      "text/html": [
       "<div>\n",
       "<style scoped>\n",
       "    .dataframe tbody tr th:only-of-type {\n",
       "        vertical-align: middle;\n",
       "    }\n",
       "\n",
       "    .dataframe tbody tr th {\n",
       "        vertical-align: top;\n",
       "    }\n",
       "\n",
       "    .dataframe thead th {\n",
       "        text-align: right;\n",
       "    }\n",
       "</style>\n",
       "<table border=\"1\" class=\"dataframe\">\n",
       "  <thead>\n",
       "    <tr style=\"text-align: right;\">\n",
       "      <th></th>\n",
       "      <th>0</th>\n",
       "      <th>1</th>\n",
       "      <th>2</th>\n",
       "      <th>3</th>\n",
       "      <th>4</th>\n",
       "    </tr>\n",
       "  </thead>\n",
       "  <tbody>\n",
       "    <tr>\n",
       "      <th>0</th>\n",
       "      <td>0.606452</td>\n",
       "      <td>0.186026</td>\n",
       "      <td>0.314928</td>\n",
       "      <td>0.433333</td>\n",
       "      <td>1.0</td>\n",
       "    </tr>\n",
       "    <tr>\n",
       "      <th>1</th>\n",
       "      <td>0.258065</td>\n",
       "      <td>0.152055</td>\n",
       "      <td>0.408998</td>\n",
       "      <td>0.033333</td>\n",
       "      <td>0.0</td>\n",
       "    </tr>\n",
       "    <tr>\n",
       "      <th>2</th>\n",
       "      <td>0.651613</td>\n",
       "      <td>0.186026</td>\n",
       "      <td>0.531697</td>\n",
       "      <td>0.166667</td>\n",
       "      <td>1.0</td>\n",
       "    </tr>\n",
       "    <tr>\n",
       "      <th>3</th>\n",
       "      <td>0.587097</td>\n",
       "      <td>0.323288</td>\n",
       "      <td>0.492843</td>\n",
       "      <td>0.050000</td>\n",
       "      <td>1.0</td>\n",
       "    </tr>\n",
       "    <tr>\n",
       "      <th>4</th>\n",
       "      <td>0.612903</td>\n",
       "      <td>0.638356</td>\n",
       "      <td>0.460123</td>\n",
       "      <td>0.000000</td>\n",
       "      <td>0.0</td>\n",
       "    </tr>\n",
       "    <tr>\n",
       "      <th>...</th>\n",
       "      <td>...</td>\n",
       "      <td>...</td>\n",
       "      <td>...</td>\n",
       "      <td>...</td>\n",
       "      <td>...</td>\n",
       "    </tr>\n",
       "    <tr>\n",
       "      <th>1020</th>\n",
       "      <td>0.354839</td>\n",
       "      <td>0.054795</td>\n",
       "      <td>0.177914</td>\n",
       "      <td>0.183333</td>\n",
       "      <td>0.0</td>\n",
       "    </tr>\n",
       "    <tr>\n",
       "      <th>1021</th>\n",
       "      <td>0.303226</td>\n",
       "      <td>0.186026</td>\n",
       "      <td>0.290389</td>\n",
       "      <td>0.100000</td>\n",
       "      <td>0.0</td>\n",
       "    </tr>\n",
       "    <tr>\n",
       "      <th>1022</th>\n",
       "      <td>0.329032</td>\n",
       "      <td>0.101370</td>\n",
       "      <td>0.161554</td>\n",
       "      <td>0.016667</td>\n",
       "      <td>0.0</td>\n",
       "    </tr>\n",
       "    <tr>\n",
       "      <th>1023</th>\n",
       "      <td>0.354839</td>\n",
       "      <td>0.005479</td>\n",
       "      <td>0.417178</td>\n",
       "      <td>0.000000</td>\n",
       "      <td>0.0</td>\n",
       "    </tr>\n",
       "    <tr>\n",
       "      <th>1024</th>\n",
       "      <td>0.309677</td>\n",
       "      <td>0.153425</td>\n",
       "      <td>0.282209</td>\n",
       "      <td>0.416667</td>\n",
       "      <td>0.0</td>\n",
       "    </tr>\n",
       "  </tbody>\n",
       "</table>\n",
       "<p>1025 rows × 5 columns</p>\n",
       "</div>"
      ],
      "text/plain": [
       "             0         1         2         3    4\n",
       "0     0.606452  0.186026  0.314928  0.433333  1.0\n",
       "1     0.258065  0.152055  0.408998  0.033333  0.0\n",
       "2     0.651613  0.186026  0.531697  0.166667  1.0\n",
       "3     0.587097  0.323288  0.492843  0.050000  1.0\n",
       "4     0.612903  0.638356  0.460123  0.000000  0.0\n",
       "...        ...       ...       ...       ...  ...\n",
       "1020  0.354839  0.054795  0.177914  0.183333  0.0\n",
       "1021  0.303226  0.186026  0.290389  0.100000  0.0\n",
       "1022  0.329032  0.101370  0.161554  0.016667  0.0\n",
       "1023  0.354839  0.005479  0.417178  0.000000  0.0\n",
       "1024  0.309677  0.153425  0.282209  0.416667  0.0\n",
       "\n",
       "[1025 rows x 5 columns]"
      ]
     },
     "execution_count": 745,
     "metadata": {},
     "output_type": "execute_result"
    }
   ],
   "source": [
    "dataset_scaled"
   ]
  },
  {
   "cell_type": "markdown",
   "id": "f25ed621",
   "metadata": {},
   "source": [
    "# Method: OverSampling"
   ]
  },
  {
   "cell_type": "code",
   "execution_count": 746,
   "id": "338f6d48",
   "metadata": {},
   "outputs": [],
   "source": [
    "count_class_0, count_class_1 = dataset_new.Outcome.value_counts()\n",
    "\n",
    "#Divide by class\n",
    "dataset_new_class_0 = dataset_new[dataset_new['Outcome']==0]\n",
    "dataset_new_class_1 = dataset_new[dataset_new['Outcome']==1]"
   ]
  },
  {
   "cell_type": "code",
   "execution_count": 747,
   "id": "dd2c2b80",
   "metadata": {},
   "outputs": [
    {
     "data": {
      "text/plain": [
       "(684, 341)"
      ]
     },
     "execution_count": 747,
     "metadata": {},
     "output_type": "execute_result"
    }
   ],
   "source": [
    "count_class_0, count_class_1 "
   ]
  },
  {
   "cell_type": "code",
   "execution_count": 748,
   "id": "014265c5",
   "metadata": {},
   "outputs": [
    {
     "data": {
      "text/plain": [
       "(684, 5)"
      ]
     },
     "execution_count": 748,
     "metadata": {},
     "output_type": "execute_result"
    }
   ],
   "source": [
    "dataset_new_class_0.shape"
   ]
  },
  {
   "cell_type": "code",
   "execution_count": 749,
   "id": "e7dfa25d",
   "metadata": {},
   "outputs": [
    {
     "data": {
      "text/plain": [
       "(341, 5)"
      ]
     },
     "execution_count": 749,
     "metadata": {},
     "output_type": "execute_result"
    }
   ],
   "source": [
    "dataset_new_class_1.shape"
   ]
  },
  {
   "cell_type": "code",
   "execution_count": 750,
   "id": "0811fea1",
   "metadata": {},
   "outputs": [
    {
     "data": {
      "text/plain": [
       "(1368, 5)"
      ]
     },
     "execution_count": 750,
     "metadata": {},
     "output_type": "execute_result"
    }
   ],
   "source": [
    "dataset_new_class_1_over= dataset_new_class_1.sample(count_class_0, replace=True)\n",
    "\n",
    "dataset_new_test_over = pd.concat([dataset_new_class_0,dataset_new_class_1_over],axis=0)\n",
    "dataset_new_test_over.shape"
   ]
  },
  {
   "cell_type": "code",
   "execution_count": 751,
   "id": "7fa2cad8",
   "metadata": {},
   "outputs": [
    {
     "name": "stdout",
     "output_type": "stream",
     "text": [
      " Over-sampling:\n",
      "0    684\n",
      "1    684\n",
      "Name: Outcome, dtype: int64\n"
     ]
    }
   ],
   "source": [
    "print(' Over-sampling:')  # verifying both the class have same no. of samples\n",
    "print(dataset_new_test_over.Outcome.value_counts())"
   ]
  },
  {
   "cell_type": "markdown",
   "id": "797cdc9b",
   "metadata": {},
   "source": [
    "# Train and Test Split"
   ]
  },
  {
   "cell_type": "code",
   "execution_count": 752,
   "id": "0f5c277f",
   "metadata": {},
   "outputs": [],
   "source": [
    "X = dataset_new_test_over.drop('Outcome', axis='columns')\n",
    "Y = dataset_new_test_over['Outcome']\n",
    "\n",
    "from sklearn.model_selection import train_test_split\n",
    "X_train, X_test, Y_train, Y_test = train_test_split(X, Y, test_size = 0.25, random_state = 40, stratify = Y )"
   ]
  },
  {
   "cell_type": "code",
   "execution_count": 753,
   "id": "236aad1f",
   "metadata": {},
   "outputs": [
    {
     "data": {
      "text/plain": [
       "1    171\n",
       "0    171\n",
       "Name: Outcome, dtype: int64"
      ]
     },
     "execution_count": 753,
     "metadata": {},
     "output_type": "execute_result"
    }
   ],
   "source": [
    "Y_test.value_counts()"
   ]
  },
  {
   "cell_type": "code",
   "execution_count": 754,
   "id": "68baea09",
   "metadata": {},
   "outputs": [
    {
     "name": "stdout",
     "output_type": "stream",
     "text": [
      "X_train shape: (1026, 4)\n",
      "X_test shape: (342, 4)\n",
      "Y_train shape: (1026,)\n",
      "Y_test shape: (342,)\n"
     ]
    }
   ],
   "source": [
    "# Checking dimensions\n",
    "print(\"X_train shape:\", X_train.shape)\n",
    "print(\"X_test shape:\", X_test.shape)\n",
    "print(\"Y_train shape:\", Y_train.shape)\n",
    "print(\"Y_test shape:\", Y_test.shape)"
   ]
  },
  {
   "cell_type": "markdown",
   "id": "107f4364",
   "metadata": {},
   "source": [
    "# Training Model using Algorithms "
   ]
  },
  {
   "cell_type": "code",
   "execution_count": 755,
   "id": "856a7a56",
   "metadata": {},
   "outputs": [
    {
     "data": {
      "text/plain": [
       "LogisticRegression(random_state=40)"
      ]
     },
     "execution_count": 755,
     "metadata": {},
     "output_type": "execute_result"
    }
   ],
   "source": [
    "#Logistic Regression Algorithm\n",
    "from sklearn.linear_model import LogisticRegression\n",
    "logreg = LogisticRegression(random_state = 40)\n",
    "logreg.fit(X_train, Y_train)\n"
   ]
  },
  {
   "cell_type": "code",
   "execution_count": 756,
   "id": "f76e5cb9",
   "metadata": {},
   "outputs": [
    {
     "data": {
      "text/plain": [
       "DecisionTreeClassifier(criterion='entropy', random_state=40)"
      ]
     },
     "execution_count": 756,
     "metadata": {},
     "output_type": "execute_result"
    }
   ],
   "source": [
    "# Decision tree Algorithm\n",
    "from sklearn.tree import DecisionTreeClassifier\n",
    "dectree = DecisionTreeClassifier(criterion = 'entropy', random_state = 40)\n",
    "dectree.fit(X_train, Y_train)"
   ]
  },
  {
   "cell_type": "code",
   "execution_count": 757,
   "id": "04a2b503",
   "metadata": {},
   "outputs": [
    {
     "data": {
      "text/plain": [
       "RandomForestClassifier(criterion='entropy', n_estimators=11, random_state=40)"
      ]
     },
     "execution_count": 757,
     "metadata": {},
     "output_type": "execute_result"
    }
   ],
   "source": [
    "# Random forest Algorithm\n",
    "from sklearn.ensemble import RandomForestClassifier\n",
    "ranfor = RandomForestClassifier(n_estimators = 11, criterion = 'entropy', random_state = 40)\n",
    "ranfor.fit(X_train, Y_train)"
   ]
  },
  {
   "cell_type": "code",
   "execution_count": 758,
   "id": "2efe5bfa",
   "metadata": {},
   "outputs": [],
   "source": [
    "# Making predictions on test dataset\n",
    "Y_pred_logreg = logreg.predict(X_test)\n",
    "Y_pred_dectree = dectree.predict(X_test)\n",
    "Y_pred_ranfor = ranfor.predict(X_test)"
   ]
  },
  {
   "cell_type": "code",
   "execution_count": 759,
   "id": "ee91f6de",
   "metadata": {},
   "outputs": [],
   "source": [
    "# Evaluating using accuracy_score metric\n",
    "from sklearn.metrics import accuracy_score\n",
    "accuracy_logreg = accuracy_score(Y_test, Y_pred_logreg)\n",
    "accuracy_dectree = accuracy_score(Y_test, Y_pred_dectree)\n",
    "accuracy_ranfor = accuracy_score(Y_test, Y_pred_ranfor)"
   ]
  },
  {
   "cell_type": "code",
   "execution_count": 760,
   "id": "2f42630b",
   "metadata": {},
   "outputs": [
    {
     "name": "stdout",
     "output_type": "stream",
     "text": [
      "Logistic Regression: 72.51461988304094\n",
      "Decision tree: 90.93567251461988\n",
      "Random Forest: 92.98245614035088\n"
     ]
    }
   ],
   "source": [
    "# Accuracy on test set\n",
    "print(\"Logistic Regression: \" + str(accuracy_logreg * 100))\n",
    "print(\"Decision tree: \" + str(accuracy_dectree * 100))\n",
    "print(\"Random Forest: \" + str(accuracy_ranfor * 100))"
   ]
  },
  {
   "cell_type": "code",
   "execution_count": 761,
   "id": "afde2a0c",
   "metadata": {},
   "outputs": [
    {
     "data": {
      "text/plain": [
       "array([[151,  20],\n",
       "       [  4, 167]])"
      ]
     },
     "execution_count": 761,
     "metadata": {},
     "output_type": "execute_result"
    }
   ],
   "source": [
    "# Confusion matrix\n",
    "from sklearn.metrics import confusion_matrix\n",
    "cm = confusion_matrix(Y_test, Y_pred_ranfor)\n",
    "cm"
   ]
  },
  {
   "cell_type": "code",
   "execution_count": 762,
   "id": "a7ed8266",
   "metadata": {},
   "outputs": [
    {
     "data": {
      "text/plain": [
       "<AxesSubplot:>"
      ]
     },
     "execution_count": 762,
     "metadata": {},
     "output_type": "execute_result"
    },
    {
     "data": {
      "image/png": "[encoded data removed]",
      "text/plain": [
       "<Figure size 432x288 with 2 Axes>"
      ]
     },
     "metadata": {
      "needs_background": "light"
     },
     "output_type": "display_data"
    }
   ],
   "source": [
    "# Heatmap of Confusion matrix\n",
    "sns.heatmap(pd.DataFrame(cm), annot=True, fmt=\"d\")"
   ]
  },
  {
   "cell_type": "code",
   "execution_count": 763,
   "id": "1609790a",
   "metadata": {},
   "outputs": [
    {
     "name": "stdout",
     "output_type": "stream",
     "text": [
      "              precision    recall  f1-score   support\n",
      "\n",
      "           0       0.97      0.88      0.93       171\n",
      "           1       0.89      0.98      0.93       171\n",
      "\n",
      "    accuracy                           0.93       342\n",
      "   macro avg       0.93      0.93      0.93       342\n",
      "weighted avg       0.93      0.93      0.93       342\n",
      "\n"
     ]
    }
   ],
   "source": [
    "# Classification report\n",
    "from sklearn.metrics import classification_report\n",
    "print(classification_report(Y_test, Y_pred_ranfor))"
   ]
  },
  {
   "cell_type": "code",
   "execution_count": null,
   "id": "2f21b8f0",
   "metadata": {},
   "outputs": [],
   "source": []
  }
 ],
 "metadata": {
  "kernelspec": {
   "display_name": "Python 3 (ipykernel)",
   "language": "python",
   "name": "python3"
  },
  "language_info": {
   "codemirror_mode": {
    "name": "ipython",
    "version": 3
   },
   "file_extension": ".py",
   "mimetype": "text/x-python",
   "name": "python",
   "nbconvert_exporter": "python",
   "pygments_lexer": "ipython3",
   "version": "3.9.12"
  }
 },
 "nbformat": 4,
 "nbformat_minor": 5
}
